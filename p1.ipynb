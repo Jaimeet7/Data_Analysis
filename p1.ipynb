{
 "cells": [
  {
   "cell_type": "code",
   "execution_count": 1,
   "id": "6055c8b1",
   "metadata": {},
   "outputs": [
    {
     "name": "stdout",
     "output_type": "stream",
     "text": [
      "[['13' '21.2']] [['13' '21.2']]\n"
     ]
    }
   ],
   "source": [
    "import numpy as np\n",
    "\n",
    "a1 = np.array([10,21.2,],dtype='str',ndmin=2)\n",
    "a2 = np.array(a1,copy=False)\n",
    "a1[0][0] = 13\n",
    "print(a1,a2)"
   ]
  },
  {
   "cell_type": "code",
   "execution_count": 2,
   "id": "73f5a920",
   "metadata": {},
   "outputs": [
    {
     "name": "stdout",
     "output_type": "stream",
     "text": [
      "dict_values([1, 2])\n"
     ]
    }
   ],
   "source": [
    "print({'a':1,'b':2}.values())"
   ]
  },
  {
   "cell_type": "code",
   "execution_count": 5,
   "id": "50b1732a",
   "metadata": {},
   "outputs": [
    {
     "name": "stdout",
     "output_type": "stream",
     "text": [
      "dimensions of 10 is 0 and size is 1 and datatype is int64 and shape is ()\n",
      "dimesions of [10 20 30] are 1 and size is 3 and datatype is int64 and shape is (3,)\n",
      "dimensions of [[10. 20.]\n",
      " [30. 40.]] are 2 and size is 4 and datatype is float64 and shape is (2, 2)\n"
     ]
    }
   ],
   "source": [
    "import numpy as np\n",
    "a_zero = np.array(10)\n",
    "a_one = np.array([10,20,30])\n",
    "a_two = np.array([[10.,20],[30,40]])\n",
    "print(f'dimensions of {a_zero} is {a_zero.ndim} and size is {a_zero.size} and datatype is {a_zero.dtype} and shape is {a_zero.shape}')\n",
    "print(f'dimesions of {a_one} are {a_one.ndim} and size is {a_one.size} and datatype is {a_one.dtype} and shape is {a_one.shape}')\n",
    "print(f'dimensions of {a_two} are {a_two.ndim} and size is {a_two.size} and datatype is {a_two.dtype} and shape is {a_two.shape}')"
   ]
  },
  {
   "cell_type": "markdown",
   "id": "8bf007d4",
   "metadata": {},
   "source": [
    "Indexing and slicing"
   ]
  },
  {
   "cell_type": "code",
   "execution_count": null,
   "id": "74fda8c1",
   "metadata": {},
   "outputs": [
    {
     "name": "stdout",
     "output_type": "stream",
     "text": [
      "10 50\n",
      "[30 40 50]\n",
      "[50 40 30 20]\n"
     ]
    }
   ],
   "source": [
    "import numpy as np\n",
    "#1-D array\n",
    "a1 = np.array([10,20,30,40,50])\n",
    "print(a1[0],a1[-1])\n",
    "print(a1[2:])\n",
    "print(a1[:-5:-1])"
   ]
  },
  {
   "cell_type": "code",
   "execution_count": null,
   "id": "a5c7140d",
   "metadata": {},
   "outputs": [
    {
     "name": "stdout",
     "output_type": "stream",
     "text": [
      "[40 50 60]\n",
      "\n",
      "[70 80 90]\n",
      "\n",
      "[90 80]\n",
      "\n",
      "[[90 80 70]\n",
      " [60 50 40]\n",
      " [30 20 10]]\n",
      "\n",
      "[[10 30]\n",
      " [70 90]]\n",
      "\n",
      "[[20 30]\n",
      " [50 60]]\n",
      "\n",
      "[[90 80]\n",
      " [30 20]]\n",
      "\n",
      "[90 80]\n"
     ]
    }
   ],
   "source": [
    "#2-D array\n",
    "import numpy as np\n",
    "a2 = np.array([[10,20,30],[40,50,60],[70,80,90]])\n",
    "print(a2[1])\n",
    "print()\n",
    "print(a2[2][0:])\n",
    "print()\n",
    "print(a2[-1][-1:0:-1])\n",
    "print()\n",
    "print(a2[::-1,::-1])\n",
    "print()\n",
    "print(a2[::2,::2])\n",
    "print()\n",
    "print(a2[:2:,1:])\n",
    "print()\n",
    "print(a2[-1::-2,-1:0:-1])\n",
    "print()\n",
    "print(a2[2,:0:-1])"
   ]
  },
  {
   "cell_type": "code",
   "execution_count": null,
   "id": "43393810",
   "metadata": {},
   "outputs": [
    {
     "name": "stdout",
     "output_type": "stream",
     "text": [
      "[[[10 20 30]\n",
      "  [40 50 60]\n",
      "  [70 80 90]]\n",
      "\n",
      " [[15 25 35]\n",
      "  [45 55 65]\n",
      "  [75 85 95]]]\n",
      "\n",
      "50\n",
      "\n",
      "[[20 50 80]\n",
      " [25 55 85]]\n",
      "\n",
      "[[[95 75]\n",
      "  [65 45]\n",
      "  [35 15]]\n",
      "\n",
      " [[90 70]\n",
      "  [60 40]\n",
      "  [30 10]]]\n",
      "\n",
      "[[10 20 30]\n",
      " [15 25 35]]\n",
      "\n",
      "[[[30 10]\n",
      "  [90 70]]]\n",
      "\n",
      "[[20 50 80]\n",
      " [25 55 85]]\n"
     ]
    }
   ],
   "source": [
    "import numpy as np\n",
    "a3 = np.array(\n",
    "    [\n",
    "        [\n",
    "            [10,20,30],[40,50,60],[70,80,90]\n",
    "        ],\n",
    "        [\n",
    "            [15,25,35],[45,55,65],[75,85,95]\n",
    "        ]\n",
    "    ]\n",
    "    )\n",
    "print(a3)\n",
    "print()\n",
    "print(a3[0,1,1])\n",
    "print()\n",
    "print(a3[0:,0:,1])\n",
    "print()\n",
    "print(a3[::-1,::-1,-1::-2])\n",
    "print()\n",
    "print(a3[:,0])\n",
    "print()\n",
    "print(a3[:1:,::2,::-2])\n",
    "print()\n",
    "print(a3[:,:,1])"
   ]
  },
  {
   "cell_type": "code",
   "execution_count": null,
   "id": "43d1fadb",
   "metadata": {},
   "outputs": [
    {
     "name": "stdout",
     "output_type": "stream",
     "text": [
      "[ 6  7  8 10]\n",
      "\n",
      "[-4 -3 -2  0]\n",
      "\n",
      "[ 5 10 15 25]\n",
      "\n",
      "[0.2 0.4 0.6 1. ]\n",
      "\n",
      "[0 0 0 1]\n",
      "\n",
      "[1 2 3 0]\n",
      "\n",
      "[   1   32  243 3125]\n",
      "\n",
      "[False False False False]\n",
      "\n",
      "[False False False  True]\n",
      "\n",
      "[ True  True  True False]\n",
      "\n",
      "[ True  True  True  True]\n",
      "\n",
      "[False False False  True]\n",
      "\n",
      "[ True  True  True False]\n",
      "\n",
      "[4 7 6 0]\n",
      "\n",
      "[0 0 0 0]\n",
      "\n",
      "[ 32  64  96 160]\n",
      "\n",
      "[5 7 7 5]\n",
      "\n",
      "[1 0 1 5]\n",
      "\n"
     ]
    }
   ],
   "source": [
    "import numpy as np\n",
    "arr1 = np.array([1,2,3,5])\n",
    "arr2 = np.array([5,5,5,5])\n",
    "print(arr1+arr2)\n",
    "print()\n",
    "print(arr1-arr2)\n",
    "print()\n",
    "print(arr1*arr2)\n",
    "print()\n",
    "print(arr1/arr2)\n",
    "print()\n",
    "print(arr1//arr2)\n",
    "print()\n",
    "print(arr1%arr2)\n",
    "print()\n",
    "print(arr1**arr2)\n",
    "print()\n",
    "print(arr1>arr2)\n",
    "print()\n",
    "print(arr1>=arr2)\n",
    "print()\n",
    "print(arr1<arr2)\n",
    "print()\n",
    "print(arr1<=arr2)\n",
    "print()\n",
    "print(arr1==arr2)\n",
    "print()\n",
    "print(arr1!=arr2)\n",
    "print()\n",
    "print(arr1^arr2)\n",
    "print()\n",
    "print(arr1>>arr2)\n",
    "print()\n",
    "print(arr1<<arr2)\n",
    "print()\n",
    "print(arr1|arr2)\n",
    "print()\n",
    "print(arr1&arr2)\n",
    "print()"
   ]
  },
  {
   "cell_type": "code",
   "execution_count": null,
   "id": "dfb22656",
   "metadata": {},
   "outputs": [
    {
     "data": {
      "text/plain": [
       "array([5, 5, 5])"
      ]
     },
     "execution_count": 53,
     "metadata": {},
     "output_type": "execute_result"
    }
   ],
   "source": [
    "b = arr1 == arr2\n",
    "arr2[~ b]"
   ]
  },
  {
   "cell_type": "code",
   "execution_count": null,
   "id": "4d34b40f",
   "metadata": {},
   "outputs": [
    {
     "name": "stdout",
     "output_type": "stream",
     "text": [
      "[4 5 6 8]\n"
     ]
    }
   ],
   "source": [
    "c = 3\n",
    "print(arr1+c)"
   ]
  }
 ],
 "metadata": {
  "kernelspec": {
   "display_name": "Python 3",
   "language": "python",
   "name": "python3"
  },
  "language_info": {
   "codemirror_mode": {
    "name": "ipython",
    "version": 3
   },
   "file_extension": ".py",
   "mimetype": "text/x-python",
   "name": "python",
   "nbconvert_exporter": "python",
   "pygments_lexer": "ipython3",
   "version": "3.13.1"
  }
 },
 "nbformat": 4,
 "nbformat_minor": 5
}

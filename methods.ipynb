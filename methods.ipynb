{
 "cells": [
  {
   "cell_type": "markdown",
   "id": "afe4ae00",
   "metadata": {},
   "source": [
    "Array Methods"
   ]
  },
  {
   "cell_type": "code",
   "execution_count": null,
   "id": "9e29f0cb",
   "metadata": {},
   "outputs": [
    {
     "name": "stdout",
     "output_type": "stream",
     "text": [
      "[[0. 0. 0. 0.]\n",
      " [0. 0. 0. 0.]\n",
      " [0. 0. 0. 0.]]\n",
      "\n",
      "[[1. 1. 1. 1.]\n",
      " [1. 1. 1. 1.]\n",
      " [1. 1. 1. 1.]]\n",
      "\n",
      "[[1. 0. 0. 0.]\n",
      " [0. 1. 0. 0.]\n",
      " [0. 0. 1. 0.]\n",
      " [0. 0. 0. 1.]]\n",
      "\n",
      "[[6 6 6 6]\n",
      " [6 6 6 6]\n",
      " [6 6 6 6]]\n",
      "\n",
      "[[1. 0. 0.]\n",
      " [0. 1. 0.]\n",
      " [0. 0. 1.]\n",
      " [0. 0. 0.]\n",
      " [0. 0. 0.]]\n"
     ]
    }
   ],
   "source": [
    "import numpy as np\n",
    "\n",
    "print(np.zeros((3,4)))\n",
    "print()\n",
    "print(np.ones(shape=(3,4)))\n",
    "print()\n",
    "print(np.identity(4))\n",
    "print()\n",
    "print(np.full(fill_value=6,shape=(3,4)))\n",
    "print()\n",
    "print(np.eye(5,3))"
   ]
  },
  {
   "cell_type": "code",
   "execution_count": 29,
   "id": "a0913eb6",
   "metadata": {},
   "outputs": [
    {
     "name": "stdout",
     "output_type": "stream",
     "text": [
      "[1 2 3 4]\n"
     ]
    },
    {
     "data": {
      "text/plain": [
       "array([0, 1, 2, 3, 4])"
      ]
     },
     "execution_count": 29,
     "metadata": {},
     "output_type": "execute_result"
    }
   ],
   "source": [
    "print(np.arange(start=1,stop=5,step=1))\n",
    "\n",
    "np.arange(stop=5)"
   ]
  },
  {
   "cell_type": "code",
   "execution_count": 33,
   "id": "398c96e5",
   "metadata": {},
   "outputs": [
    {
     "data": {
      "text/plain": [
       "(array([1.        , 1.44444444, 1.88888889, 2.33333333, 2.77777778,\n",
       "        3.22222222, 3.66666667, 4.11111111, 4.55555556, 5.        ]),\n",
       " np.float64(0.4444444444444444))"
      ]
     },
     "execution_count": 33,
     "metadata": {},
     "output_type": "execute_result"
    }
   ],
   "source": [
    "np.linspace(start=1,stop=5,num=10,retstep=True)\n"
   ]
  },
  {
   "cell_type": "code",
   "execution_count": 9,
   "id": "aaeffbf7",
   "metadata": {},
   "outputs": [
    {
     "name": "stdout",
     "output_type": "stream",
     "text": [
      "[1 2 3 4 5]\n",
      "5\n",
      "1\n",
      "15\n",
      "3.0\n",
      "3.0\n",
      "[1 2 3 4 5]\n",
      "1.4142135623730951\n"
     ]
    }
   ],
   "source": [
    "import numpy as np\n",
    "a = np.arange(1,6)\n",
    "print(a)\n",
    "print(a.max())\n",
    "print(a.min())\n",
    "print(a.sum())\n",
    "print(a.mean())\n",
    "print(np.median(a,overwrite_input=True))\n",
    "print(np.std(a))"
   ]
  },
  {
   "cell_type": "code",
   "execution_count": 17,
   "id": "8bd96303",
   "metadata": {},
   "outputs": [
    {
     "name": "stdout",
     "output_type": "stream",
     "text": [
      "4.0\n",
      "[1 2 3 5 5 6]\n",
      "1.0\n",
      "2.25\n",
      "4.0\n",
      "5.0\n",
      "6.0\n"
     ]
    }
   ],
   "source": [
    "a2 = np.array([5,2,1,3,5,6])\n",
    "print(np.median(a2,overwrite_input=True))\n",
    "print(a2)\n",
    "print(np.percentile(a2,q=0)) # before 1 0% of eles are present\n",
    "print(np.percentile(a2,q=25)) # before 2.25 25% of eles are present\n",
    "print(np.percentile(a2,q=50)) # before 4 50% of eles are present\n",
    "print(np.percentile(a2,q=75)) # before 5 75% of eles are present\n",
    "print(np.percentile(a2,q=100)) # before 6 100% of eles are present\n"
   ]
  },
  {
   "cell_type": "code",
   "execution_count": 20,
   "id": "05c397bd",
   "metadata": {},
   "outputs": [
    {
     "name": "stdout",
     "output_type": "stream",
     "text": [
      "2.0\n",
      "1.4142135623730951\n"
     ]
    }
   ],
   "source": [
    "a3 = [4,3,2,5,1]\n",
    "print(np.var(a))\n",
    "print(np.std(a))"
   ]
  },
  {
   "cell_type": "code",
   "execution_count": null,
   "id": "7b8c58af",
   "metadata": {},
   "outputs": [
    {
     "name": "stdout",
     "output_type": "stream",
     "text": [
      "[0.5488135  0.71518937 0.60276338]\n",
      "[[0.54488318 0.4236548 ]\n",
      " [0.64589411 0.43758721]\n",
      " [0.891773   0.96366276]]\n",
      "1.0965636704059414\n",
      "1.0834390922249528\n"
     ]
    }
   ],
   "source": [
    "import numpy.random as r\n",
    "\n",
    "print(r.rand(3))\n",
    "arr = r.rand(3,2)\n",
    "print(arr)\n"
   ]
  },
  {
   "cell_type": "code",
   "execution_count": null,
   "id": "0bb6b217",
   "metadata": {},
   "outputs": [
    {
     "name": "stdout",
     "output_type": "stream",
     "text": [
      "-0.06540857679725225\n",
      "0.8713816082685264\n"
     ]
    }
   ],
   "source": [
    "b = r.randn(3)\n",
    "print(np.mean(b))\n",
    "print(np.std(b))"
   ]
  },
  {
   "cell_type": "code",
   "execution_count": 438,
   "id": "84c4ee5b",
   "metadata": {},
   "outputs": [
    {
     "name": "stdout",
     "output_type": "stream",
     "text": [
      "73\n",
      "[93 74 70 85 96 82 84 92 78 87 86 68 92 85 89 85 51 79 70 87]\n",
      "[[85 96 84 77]\n",
      " [99 64 92 80]\n",
      " [77 54 54 56]\n",
      " [91 91 53 89]\n",
      " [94 86 77 63]]\n",
      "['blue' 'green']\n",
      "['blue' 'black']\n"
     ]
    }
   ],
   "source": [
    "c = r.randint(1,10)\n",
    "print(r.randint(50,100))\n",
    "print(r.randint(50,100,(20,)))\n",
    "print(r.randint(50,100,(5,4)))\n",
    "print(r.choice(['red','blue','green','black'],2,replace=False))\n",
    "print(r.choice(['red','blue','green','black'],2,p = [0,0.5,0,0.5]))"
   ]
  },
  {
   "cell_type": "code",
   "execution_count": null,
   "id": "f2b9d7e2",
   "metadata": {},
   "outputs": [
    {
     "name": "stdout",
     "output_type": "stream",
     "text": [
      "['no' 'no' 'no' 'yes' 'yes']\n",
      "False\n",
      "True\n"
     ]
    }
   ],
   "source": [
    "import numpy as np\n",
    "b1 = np.array([5,2,3,6,7])\n",
    "print(np.where(b1>5,'yes','no')) \n",
    "print((b1>4).all())\n",
    "print((b1>4).any())"
   ]
  },
  {
   "cell_type": "code",
   "execution_count": 4,
   "id": "56576576",
   "metadata": {},
   "outputs": [
    {
     "name": "stdout",
     "output_type": "stream",
     "text": [
      "[2. 3. 4. 5.]\n"
     ]
    }
   ],
   "source": [
    "sq_rt_arr = np.array([4,9,16,25,])\n",
    "print(np.sqrt(sq_rt_arr))"
   ]
  },
  {
   "cell_type": "code",
   "execution_count": 7,
   "id": "f4a33eef",
   "metadata": {},
   "outputs": [
    {
     "name": "stdout",
     "output_type": "stream",
     "text": [
      "[1.         2.71828183 7.3890561 ]\n",
      "[0. 1. 2.]\n"
     ]
    }
   ],
   "source": [
    "a5 = np.array([0,1,2])\n",
    "a6 = np.exp(a5)\n",
    "print(a6)\n",
    "print(np.log(a6))"
   ]
  },
  {
   "cell_type": "code",
   "execution_count": 14,
   "id": "5f6aa9c6",
   "metadata": {},
   "outputs": [
    {
     "name": "stdout",
     "output_type": "stream",
     "text": [
      "[[ 1  2]\n",
      " [ 3  4]\n",
      " [ 5  6]\n",
      " [ 7  8]\n",
      " [ 9 10]]\n",
      "[[ 1  2  3  4  5]\n",
      " [ 6  7  8  9 10]]\n"
     ]
    }
   ],
   "source": [
    "a7 = np.arange(1,11)\n",
    "a7.shape\n",
    "print(a7.reshape(5,2))\n",
    "print(a7.reshape(2,5))"
   ]
  },
  {
   "cell_type": "code",
   "execution_count": 65,
   "id": "fe9f4d98",
   "metadata": {},
   "outputs": [
    {
     "name": "stdout",
     "output_type": "stream",
     "text": [
      "[45 48 65 68 68 10 84 22 37 88 71 89]\n",
      "[[[[45 48]]\n",
      "\n",
      "  [[65 68]]\n",
      "\n",
      "  [[68 10]]]\n",
      "\n",
      "\n",
      " [[[84 22]]\n",
      "\n",
      "  [[37 88]]\n",
      "\n",
      "  [[71 89]]]]\n"
     ]
    }
   ],
   "source": [
    "import numpy.random as r\n",
    "arr2 = r.randint(1,100,12)\n",
    "\n",
    "print(arr2)\n",
    "r.seed(0)\n",
    "print(np.reshape(arr2,(2,3,1,2)))"
   ]
  },
  {
   "cell_type": "code",
   "execution_count": null,
   "id": "1fdb99c8",
   "metadata": {},
   "outputs": [
    {
     "name": "stdout",
     "output_type": "stream",
     "text": [
      "[10 20 30 40 50 60]\n"
     ]
    }
   ],
   "source": [
    "arr3 = np.array([[10,20,30],[40,50,60]])\n",
    "# print(arr3.reshape(-1))\n",
    "print(np.ravel(arr3))\n",
    "# ravel will always return 1D array\n",
    "\n"
   ]
  },
  {
   "cell_type": "code",
   "execution_count": 71,
   "id": "14507cc4",
   "metadata": {},
   "outputs": [
    {
     "name": "stdout",
     "output_type": "stream",
     "text": [
      "[[[10 20]\n",
      "  [30 40]]\n",
      "\n",
      " [[50 60]\n",
      "  [70 80]]]\n"
     ]
    }
   ],
   "source": [
    "arr4 = np.array([[10,20,30,40],[50,60,70,80]])\n",
    "print(np.reshape(arr4,(2,2,2)))"
   ]
  }
 ],
 "metadata": {
  "kernelspec": {
   "display_name": "Python 3",
   "language": "python",
   "name": "python3"
  },
  "language_info": {
   "codemirror_mode": {
    "name": "ipython",
    "version": 3
   },
   "file_extension": ".py",
   "mimetype": "text/x-python",
   "name": "python",
   "nbconvert_exporter": "python",
   "pygments_lexer": "ipython3",
   "version": "3.13.1"
  }
 },
 "nbformat": 4,
 "nbformat_minor": 5
}

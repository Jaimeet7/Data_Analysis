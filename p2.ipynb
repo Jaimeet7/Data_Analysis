{
 "cells": [
  {
   "cell_type": "code",
   "execution_count": null,
   "id": "4f78ad0e",
   "metadata": {},
   "outputs": [
    {
     "data": {
      "text/html": [
       "<div>\n",
       "<style scoped>\n",
       "    .dataframe tbody tr th:only-of-type {\n",
       "        vertical-align: middle;\n",
       "    }\n",
       "\n",
       "    .dataframe tbody tr th {\n",
       "        vertical-align: top;\n",
       "    }\n",
       "\n",
       "    .dataframe thead th {\n",
       "        text-align: right;\n",
       "    }\n",
       "</style>\n",
       "<table border=\"1\" class=\"dataframe\">\n",
       "  <thead>\n",
       "    <tr style=\"text-align: right;\">\n",
       "      <th></th>\n",
       "      <th>0</th>\n",
       "    </tr>\n",
       "  </thead>\n",
       "  <tbody>\n",
       "    <tr>\n",
       "      <th>color1</th>\n",
       "      <td>red</td>\n",
       "    </tr>\n",
       "    <tr>\n",
       "      <th>color2</th>\n",
       "      <td>green</td>\n",
       "    </tr>\n",
       "    <tr>\n",
       "      <th>color3</th>\n",
       "      <td>blue</td>\n",
       "    </tr>\n",
       "    <tr>\n",
       "      <th>color4</th>\n",
       "      <td>black</td>\n",
       "    </tr>\n",
       "  </tbody>\n",
       "</table>\n",
       "</div>"
      ],
      "text/plain": [
       "            0\n",
       "color1    red\n",
       "color2  green\n",
       "color3   blue\n",
       "color4  black"
      ]
     },
     "execution_count": 8,
     "metadata": {},
     "output_type": "execute_result"
    }
   ],
   "source": [
    "import pandas as pd\n",
    "d = {'color1':'red','color2':'green','color3':'blue','color4':'black'}\n",
    "s1 = pd.Series(d)\n",
    "s1\n",
    "df = pd.DataFrame(s1)\n",
    "df"
   ]
  },
  {
   "cell_type": "markdown",
   "id": "ef7ee8be",
   "metadata": {},
   "source": [
    "Series is always one dimension\n",
    "Best to use dictionary for series\n",
    "it is always represented as a column"
   ]
  },
  {
   "cell_type": "code",
   "execution_count": 7,
   "id": "a6652b3b",
   "metadata": {},
   "outputs": [
    {
     "data": {
      "text/plain": [
       "1      red\n",
       "2    green\n",
       "3     blue\n",
       "Name: colors, dtype: object"
      ]
     },
     "execution_count": 7,
     "metadata": {},
     "output_type": "execute_result"
    }
   ],
   "source": [
    "lst = ['red','green','blue']\n",
    "s2 = pd.Series(lst,name='colors',index=[1,2,3])\n",
    "s2"
   ]
  }
 ],
 "metadata": {
  "kernelspec": {
   "display_name": "Python 3",
   "language": "python",
   "name": "python3"
  },
  "language_info": {
   "codemirror_mode": {
    "name": "ipython",
    "version": 3
   },
   "file_extension": ".py",
   "mimetype": "text/x-python",
   "name": "python",
   "nbconvert_exporter": "python",
   "pygments_lexer": "ipython3",
   "version": "3.13.1"
  }
 },
 "nbformat": 4,
 "nbformat_minor": 5
}

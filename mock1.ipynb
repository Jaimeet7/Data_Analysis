{
 "cells": [
  {
   "cell_type": "markdown",
   "id": "14273ead",
   "metadata": {},
   "source": [
    "#                                                           Multilingual Mobile App Reviews Dataset Analysis"
   ]
  },
  {
   "cell_type": "code",
   "execution_count": 290,
   "id": "a95fa531",
   "metadata": {},
   "outputs": [],
   "source": [
    "import pandas as pd\n",
    "import seaborn as sns\n",
    "from xgboost import XGBRegressor\n",
    "from sklearn.model_selection import train_test_split\n",
    "from sklearn.compose import ColumnTransformer\n",
    "from sklearn.pipeline import Pipeline\n",
    "from sklearn.preprocessing import OneHotEncoder, StandardScaler\n",
    "from sklearn.feature_extraction.text import TfidfVectorizer"
   ]
  },
  {
   "cell_type": "markdown",
   "id": "8d749072",
   "metadata": {},
   "source": [
    "# column description"
   ]
  },
  {
   "cell_type": "markdown",
   "id": "2a7c55fa",
   "metadata": {},
   "source": [
    "review_id → Unique identifier for each review.\n",
    "\n",
    "user_id → Unique identifier for the user who wrote the review.\n",
    "\n",
    "app_name → Name of the mobile application being reviewed.\n",
    "\n",
    "app_category → Category/genre of the app (e.g., Games, Finance, Health).\n",
    "\n",
    "review_text → Written text of the user’s review.\n",
    "\n",
    "review_language → Language in which the review is written.\n",
    "\n",
    "rating → Star rating or numeric score given by the user.\n",
    "\n",
    "review_date → Date when the review was submitted.\n",
    "\n",
    "verified_purchase → Whether the review is from a verified purchase (Yes/No).\n",
    "\n",
    "device_type → Type of device used (e.g., Android, iOS, Tablet).\n",
    "\n",
    "num_helpful_votes → Number of people who found the review helpful.\n",
    "\n",
    "user_age → Age of the user writing the review.\n",
    "\n",
    "user_country → Country of the user.\n",
    "\n",
    "user_gender → Gender of the user.\n",
    "\n",
    "app_version → Version of the app being reviewed."
   ]
  },
  {
   "cell_type": "code",
   "execution_count": 291,
   "id": "17d5e8c0",
   "metadata": {},
   "outputs": [
    {
     "data": {
      "text/html": [
       "<div>\n",
       "<style scoped>\n",
       "    .dataframe tbody tr th:only-of-type {\n",
       "        vertical-align: middle;\n",
       "    }\n",
       "\n",
       "    .dataframe tbody tr th {\n",
       "        vertical-align: top;\n",
       "    }\n",
       "\n",
       "    .dataframe thead th {\n",
       "        text-align: right;\n",
       "    }\n",
       "</style>\n",
       "<table border=\"1\" class=\"dataframe\">\n",
       "  <thead>\n",
       "    <tr style=\"text-align: right;\">\n",
       "      <th></th>\n",
       "      <th>review_id</th>\n",
       "      <th>user_id</th>\n",
       "      <th>app_name</th>\n",
       "      <th>app_category</th>\n",
       "      <th>review_text</th>\n",
       "      <th>review_language</th>\n",
       "      <th>rating</th>\n",
       "      <th>review_date</th>\n",
       "      <th>verified_purchase</th>\n",
       "      <th>device_type</th>\n",
       "      <th>num_helpful_votes</th>\n",
       "      <th>user_age</th>\n",
       "      <th>user_country</th>\n",
       "      <th>user_gender</th>\n",
       "      <th>app_version</th>\n",
       "    </tr>\n",
       "  </thead>\n",
       "  <tbody>\n",
       "    <tr>\n",
       "      <th>0</th>\n",
       "      <td>1</td>\n",
       "      <td>1967825</td>\n",
       "      <td>MX Player</td>\n",
       "      <td>Travel &amp; Local</td>\n",
       "      <td>Qui doloribus consequuntur. Perspiciatis tempo...</td>\n",
       "      <td>no</td>\n",
       "      <td>1.3</td>\n",
       "      <td>2024-10-09 19:26:40</td>\n",
       "      <td>True</td>\n",
       "      <td>Android Tablet</td>\n",
       "      <td>65</td>\n",
       "      <td>14.0</td>\n",
       "      <td>China</td>\n",
       "      <td>Female</td>\n",
       "      <td>1.4</td>\n",
       "    </tr>\n",
       "    <tr>\n",
       "      <th>1</th>\n",
       "      <td>2</td>\n",
       "      <td>9242600</td>\n",
       "      <td>Tinder</td>\n",
       "      <td>Navigation</td>\n",
       "      <td>Great app but too many ads, consider premium v...</td>\n",
       "      <td>ru</td>\n",
       "      <td>1.6</td>\n",
       "      <td>2024-06-21 17:29:40</td>\n",
       "      <td>True</td>\n",
       "      <td>iPad</td>\n",
       "      <td>209</td>\n",
       "      <td>18.0</td>\n",
       "      <td>Germany</td>\n",
       "      <td>Male</td>\n",
       "      <td>8.9</td>\n",
       "    </tr>\n",
       "    <tr>\n",
       "      <th>2</th>\n",
       "      <td>3</td>\n",
       "      <td>7636477</td>\n",
       "      <td>Netflix</td>\n",
       "      <td>Dating</td>\n",
       "      <td>The interface could be better but overall good...</td>\n",
       "      <td>es</td>\n",
       "      <td>3.6</td>\n",
       "      <td>2024-10-31 13:47:12</td>\n",
       "      <td>True</td>\n",
       "      <td>iPad</td>\n",
       "      <td>163</td>\n",
       "      <td>67.0</td>\n",
       "      <td>Nigeria</td>\n",
       "      <td>Male</td>\n",
       "      <td>2.8.37.5926</td>\n",
       "    </tr>\n",
       "    <tr>\n",
       "      <th>3</th>\n",
       "      <td>4</td>\n",
       "      <td>209031</td>\n",
       "      <td>Venmo</td>\n",
       "      <td>Productivity</td>\n",
       "      <td>Latest update broke some features, please fix ...</td>\n",
       "      <td>vi</td>\n",
       "      <td>3.8</td>\n",
       "      <td>2025-03-12 06:16:22</td>\n",
       "      <td>True</td>\n",
       "      <td>iOS</td>\n",
       "      <td>664</td>\n",
       "      <td>66.0</td>\n",
       "      <td>India</td>\n",
       "      <td>Female</td>\n",
       "      <td>10.2</td>\n",
       "    </tr>\n",
       "    <tr>\n",
       "      <th>4</th>\n",
       "      <td>5</td>\n",
       "      <td>7190293</td>\n",
       "      <td>Google Drive</td>\n",
       "      <td>Education</td>\n",
       "      <td>Perfect for daily use, highly recommend to eve...</td>\n",
       "      <td>tl</td>\n",
       "      <td>3.2</td>\n",
       "      <td>2024-04-21 03:48:27</td>\n",
       "      <td>True</td>\n",
       "      <td>iPad</td>\n",
       "      <td>1197</td>\n",
       "      <td>40.0</td>\n",
       "      <td>South Korea</td>\n",
       "      <td>Prefer not to say</td>\n",
       "      <td>4.7</td>\n",
       "    </tr>\n",
       "    <tr>\n",
       "      <th>...</th>\n",
       "      <td>...</td>\n",
       "      <td>...</td>\n",
       "      <td>...</td>\n",
       "      <td>...</td>\n",
       "      <td>...</td>\n",
       "      <td>...</td>\n",
       "      <td>...</td>\n",
       "      <td>...</td>\n",
       "      <td>...</td>\n",
       "      <td>...</td>\n",
       "      <td>...</td>\n",
       "      <td>...</td>\n",
       "      <td>...</td>\n",
       "      <td>...</td>\n",
       "      <td>...</td>\n",
       "    </tr>\n",
       "    <tr>\n",
       "      <th>2509</th>\n",
       "      <td>2510</td>\n",
       "      <td>2322118</td>\n",
       "      <td>OneDrive</td>\n",
       "      <td>Business</td>\n",
       "      <td>Счастье низкий пастух. Нож неожиданно поезд тр...</td>\n",
       "      <td>nl</td>\n",
       "      <td>3.0</td>\n",
       "      <td>2023-11-23 01:07:30</td>\n",
       "      <td>False</td>\n",
       "      <td>iOS</td>\n",
       "      <td>635</td>\n",
       "      <td>21.0</td>\n",
       "      <td>Malaysia</td>\n",
       "      <td>Non-binary</td>\n",
       "      <td>1.1.2-beta</td>\n",
       "    </tr>\n",
       "    <tr>\n",
       "      <th>2510</th>\n",
       "      <td>2511</td>\n",
       "      <td>2167693</td>\n",
       "      <td>Signal</td>\n",
       "      <td>Finance</td>\n",
       "      <td>This app is amazing! Really love the new featu...</td>\n",
       "      <td>ms</td>\n",
       "      <td>1.9</td>\n",
       "      <td>2025-06-05 16:42:20</td>\n",
       "      <td>True</td>\n",
       "      <td>Windows Phone</td>\n",
       "      <td>1127</td>\n",
       "      <td>38.0</td>\n",
       "      <td>Bangladesh</td>\n",
       "      <td>NaN</td>\n",
       "      <td>v12.0.80</td>\n",
       "    </tr>\n",
       "    <tr>\n",
       "      <th>2511</th>\n",
       "      <td>2512</td>\n",
       "      <td>5554467</td>\n",
       "      <td>OneDrive</td>\n",
       "      <td>Social Networking</td>\n",
       "      <td>This app is amazing! Really love the new featu...</td>\n",
       "      <td>zh</td>\n",
       "      <td>3.4</td>\n",
       "      <td>2024-06-15 05:02:18</td>\n",
       "      <td>True</td>\n",
       "      <td>Android Tablet</td>\n",
       "      <td>677</td>\n",
       "      <td>27.0</td>\n",
       "      <td>Pakistan</td>\n",
       "      <td>NaN</td>\n",
       "      <td>9.1.32.4821</td>\n",
       "    </tr>\n",
       "    <tr>\n",
       "      <th>2512</th>\n",
       "      <td>2513</td>\n",
       "      <td>8805125</td>\n",
       "      <td>Coursera</td>\n",
       "      <td>Social Networking</td>\n",
       "      <td>Invitare convincere pericoloso corsa fortuna. ...</td>\n",
       "      <td>da</td>\n",
       "      <td>2.7</td>\n",
       "      <td>2023-12-02 01:41:31</td>\n",
       "      <td>True</td>\n",
       "      <td>Android</td>\n",
       "      <td>155</td>\n",
       "      <td>35.0</td>\n",
       "      <td>India</td>\n",
       "      <td>NaN</td>\n",
       "      <td>v8.9.13</td>\n",
       "    </tr>\n",
       "    <tr>\n",
       "      <th>2513</th>\n",
       "      <td>2514</td>\n",
       "      <td>1099793</td>\n",
       "      <td>Venmo</td>\n",
       "      <td>Education</td>\n",
       "      <td>Latest update broke some features, please fix ...</td>\n",
       "      <td>it</td>\n",
       "      <td>2.1</td>\n",
       "      <td>2025-03-04 02:51:17</td>\n",
       "      <td>True</td>\n",
       "      <td>Android</td>\n",
       "      <td>1040</td>\n",
       "      <td>26.0</td>\n",
       "      <td>Bangladesh</td>\n",
       "      <td>Prefer not to say</td>\n",
       "      <td>2.2</td>\n",
       "    </tr>\n",
       "  </tbody>\n",
       "</table>\n",
       "<p>2514 rows × 15 columns</p>\n",
       "</div>"
      ],
      "text/plain": [
       "      review_id  user_id      app_name       app_category  \\\n",
       "0             1  1967825     MX Player     Travel & Local   \n",
       "1             2  9242600        Tinder         Navigation   \n",
       "2             3  7636477       Netflix             Dating   \n",
       "3             4   209031         Venmo       Productivity   \n",
       "4             5  7190293  Google Drive          Education   \n",
       "...         ...      ...           ...                ...   \n",
       "2509       2510  2322118      OneDrive           Business   \n",
       "2510       2511  2167693        Signal            Finance   \n",
       "2511       2512  5554467      OneDrive  Social Networking   \n",
       "2512       2513  8805125      Coursera  Social Networking   \n",
       "2513       2514  1099793         Venmo          Education   \n",
       "\n",
       "                                            review_text review_language  \\\n",
       "0     Qui doloribus consequuntur. Perspiciatis tempo...              no   \n",
       "1     Great app but too many ads, consider premium v...              ru   \n",
       "2     The interface could be better but overall good...              es   \n",
       "3     Latest update broke some features, please fix ...              vi   \n",
       "4     Perfect for daily use, highly recommend to eve...              tl   \n",
       "...                                                 ...             ...   \n",
       "2509  Счастье низкий пастух. Нож неожиданно поезд тр...              nl   \n",
       "2510  This app is amazing! Really love the new featu...              ms   \n",
       "2511  This app is amazing! Really love the new featu...              zh   \n",
       "2512  Invitare convincere pericoloso corsa fortuna. ...              da   \n",
       "2513  Latest update broke some features, please fix ...              it   \n",
       "\n",
       "      rating          review_date  verified_purchase     device_type  \\\n",
       "0        1.3  2024-10-09 19:26:40               True  Android Tablet   \n",
       "1        1.6  2024-06-21 17:29:40               True            iPad   \n",
       "2        3.6  2024-10-31 13:47:12               True            iPad   \n",
       "3        3.8  2025-03-12 06:16:22               True             iOS   \n",
       "4        3.2  2024-04-21 03:48:27               True            iPad   \n",
       "...      ...                  ...                ...             ...   \n",
       "2509     3.0  2023-11-23 01:07:30              False             iOS   \n",
       "2510     1.9  2025-06-05 16:42:20               True   Windows Phone   \n",
       "2511     3.4  2024-06-15 05:02:18               True  Android Tablet   \n",
       "2512     2.7  2023-12-02 01:41:31               True         Android   \n",
       "2513     2.1  2025-03-04 02:51:17               True         Android   \n",
       "\n",
       "      num_helpful_votes  user_age user_country        user_gender  app_version  \n",
       "0                    65      14.0        China             Female          1.4  \n",
       "1                   209      18.0      Germany               Male          8.9  \n",
       "2                   163      67.0      Nigeria               Male  2.8.37.5926  \n",
       "3                   664      66.0        India             Female         10.2  \n",
       "4                  1197      40.0  South Korea  Prefer not to say          4.7  \n",
       "...                 ...       ...          ...                ...          ...  \n",
       "2509                635      21.0     Malaysia         Non-binary   1.1.2-beta  \n",
       "2510               1127      38.0   Bangladesh                NaN     v12.0.80  \n",
       "2511                677      27.0     Pakistan                NaN  9.1.32.4821  \n",
       "2512                155      35.0        India                NaN      v8.9.13  \n",
       "2513               1040      26.0   Bangladesh  Prefer not to say          2.2  \n",
       "\n",
       "[2514 rows x 15 columns]"
      ]
     },
     "execution_count": 291,
     "metadata": {},
     "output_type": "execute_result"
    }
   ],
   "source": [
    "df = pd.read_csv(\"multilingual_mobile_app_reviews_2025.csv\")\n",
    "df"
   ]
  },
  {
   "cell_type": "code",
   "execution_count": 292,
   "id": "3b36d6f4",
   "metadata": {},
   "outputs": [
    {
     "name": "stdout",
     "output_type": "stream",
     "text": [
      "<class 'pandas.core.frame.DataFrame'>\n",
      "RangeIndex: 2514 entries, 0 to 2513\n",
      "Data columns (total 15 columns):\n",
      " #   Column             Non-Null Count  Dtype  \n",
      "---  ------             --------------  -----  \n",
      " 0   review_id          2514 non-null   int64  \n",
      " 1   user_id            2514 non-null   int64  \n",
      " 2   app_name           2514 non-null   object \n",
      " 3   app_category       2514 non-null   object \n",
      " 4   review_text        2455 non-null   object \n",
      " 5   review_language    2514 non-null   object \n",
      " 6   rating             2477 non-null   float64\n",
      " 7   review_date        2514 non-null   object \n",
      " 8   verified_purchase  2514 non-null   bool   \n",
      " 9   device_type        2514 non-null   object \n",
      " 10  num_helpful_votes  2514 non-null   int64  \n",
      " 11  user_age           2514 non-null   float64\n",
      " 12  user_country       2473 non-null   object \n",
      " 13  user_gender        1927 non-null   object \n",
      " 14  app_version        2484 non-null   object \n",
      "dtypes: bool(1), float64(2), int64(3), object(9)\n",
      "memory usage: 277.6+ KB\n"
     ]
    }
   ],
   "source": [
    "df.info()"
   ]
  },
  {
   "cell_type": "code",
   "execution_count": 293,
   "id": "f6372537",
   "metadata": {},
   "outputs": [],
   "source": [
    "df['review_text'] = df['review_text'].fillna(\"NA\")"
   ]
  },
  {
   "cell_type": "code",
   "execution_count": 294,
   "id": "b57b1962",
   "metadata": {},
   "outputs": [],
   "source": [
    "# sns.boxplot(df['rating'])\n",
    "# No outliers - replacing with mean"
   ]
  },
  {
   "cell_type": "code",
   "execution_count": 295,
   "id": "4a2127c7",
   "metadata": {},
   "outputs": [],
   "source": [
    "df['rating'] =df['rating'].fillna(df['rating'].mean())"
   ]
  },
  {
   "cell_type": "code",
   "execution_count": 296,
   "id": "e7a6329b",
   "metadata": {},
   "outputs": [],
   "source": [
    "df = df.drop(\"user_country\",axis=1)"
   ]
  },
  {
   "cell_type": "code",
   "execution_count": 297,
   "id": "1040b12a",
   "metadata": {},
   "outputs": [],
   "source": [
    "df = df.drop(\"user_gender\",axis=1)"
   ]
  },
  {
   "cell_type": "code",
   "execution_count": 298,
   "id": "2c2f263b",
   "metadata": {},
   "outputs": [
    {
     "name": "stdout",
     "output_type": "stream",
     "text": [
      "app_version\n"
     ]
    }
   ],
   "source": [
    "for c in df.columns:\n",
    "    if df[c].isnull().any():\n",
    "        print(c)"
   ]
  },
  {
   "cell_type": "code",
   "execution_count": 299,
   "id": "6452269a",
   "metadata": {},
   "outputs": [],
   "source": [
    "df['app_version'] = df['app_version'].fillna(\"NA\")"
   ]
  },
  {
   "cell_type": "markdown",
   "id": "be6d14ac",
   "metadata": {},
   "source": [
    "# make observation"
   ]
  },
  {
   "cell_type": "markdown",
   "id": "3c2b65ce",
   "metadata": {},
   "source": [
    "1. Which factors do you think most strongly influence the rating of an app? Why?"
   ]
  },
  {
   "cell_type": "code",
   "execution_count": 300,
   "id": "9275876a",
   "metadata": {},
   "outputs": [
    {
     "data": {
      "text/plain": [
       "<Axes: >"
      ]
     },
     "execution_count": 300,
     "metadata": {},
     "output_type": "execute_result"
    },
    {
     "data": {
      "image/png": "[encoded data removed]",
      "text/plain": [
       "<Figure size 640x480 with 2 Axes>"
      ]
     },
     "metadata": {},
     "output_type": "display_data"
    }
   ],
   "source": [
    "num_corr = df.corr(numeric_only=True)\n",
    "sns.heatmap(num_corr,annot=True)"
   ]
  },
  {
   "cell_type": "markdown",
   "id": "93672876",
   "metadata": {},
   "source": [
    "Observation - user_age and verified_purchase are the features strongly influencing rating (1.7%)"
   ]
  },
  {
   "cell_type": "markdown",
   "id": "145951c6",
   "metadata": {},
   "source": [
    "2. How might review_language affect the interpretation of user satisfaction?"
   ]
  },
  {
   "cell_type": "code",
   "execution_count": 301,
   "id": "44055930",
   "metadata": {},
   "outputs": [
    {
     "data": {
      "text/plain": [
       "review_language\n",
       "ar    108\n",
       "da    105\n",
       "de    102\n",
       "en     99\n",
       "es    119\n",
       "fi    111\n",
       "fr     90\n",
       "hi     92\n",
       "id    111\n",
       "it    100\n",
       "ja     94\n",
       "ko    114\n",
       "ms     88\n",
       "nl    116\n",
       "no    103\n",
       "pl    122\n",
       "pt     93\n",
       "ru    134\n",
       "sv    102\n",
       "th     97\n",
       "tl    114\n",
       "tr    102\n",
       "vi    100\n",
       "zh     98\n",
       "Name: rating, dtype: int64"
      ]
     },
     "execution_count": 301,
     "metadata": {},
     "output_type": "execute_result"
    }
   ],
   "source": [
    "df.groupby('review_language')['rating'].count()"
   ]
  },
  {
   "cell_type": "markdown",
   "id": "f13ad9a4",
   "metadata": {},
   "source": [
    "Observation - More users prefer giving rating in ru - Russian"
   ]
  },
  {
   "cell_type": "markdown",
   "id": "7b2331dc",
   "metadata": {},
   "source": [
    "3. Explain how app_version and review_date together can show app improvement or decline."
   ]
  },
  {
   "cell_type": "code",
   "execution_count": 302,
   "id": "43243068",
   "metadata": {},
   "outputs": [
    {
     "data": {
      "text/html": [
       "<div>\n",
       "<style scoped>\n",
       "    .dataframe tbody tr th:only-of-type {\n",
       "        vertical-align: middle;\n",
       "    }\n",
       "\n",
       "    .dataframe tbody tr th {\n",
       "        vertical-align: top;\n",
       "    }\n",
       "\n",
       "    .dataframe thead th {\n",
       "        text-align: right;\n",
       "    }\n",
       "</style>\n",
       "<table border=\"1\" class=\"dataframe\">\n",
       "  <thead>\n",
       "    <tr style=\"text-align: right;\">\n",
       "      <th></th>\n",
       "      <th>app_version</th>\n",
       "      <th>review_date</th>\n",
       "      <th>variable</th>\n",
       "      <th>value</th>\n",
       "    </tr>\n",
       "  </thead>\n",
       "  <tbody>\n",
       "    <tr>\n",
       "      <th>0</th>\n",
       "      <td>1.4</td>\n",
       "      <td>2024-10-09 19:26:40</td>\n",
       "      <td>rating</td>\n",
       "      <td>1.3</td>\n",
       "    </tr>\n",
       "    <tr>\n",
       "      <th>1</th>\n",
       "      <td>8.9</td>\n",
       "      <td>2024-06-21 17:29:40</td>\n",
       "      <td>rating</td>\n",
       "      <td>1.6</td>\n",
       "    </tr>\n",
       "    <tr>\n",
       "      <th>2</th>\n",
       "      <td>2.8.37.5926</td>\n",
       "      <td>2024-10-31 13:47:12</td>\n",
       "      <td>rating</td>\n",
       "      <td>3.6</td>\n",
       "    </tr>\n",
       "    <tr>\n",
       "      <th>3</th>\n",
       "      <td>10.2</td>\n",
       "      <td>2025-03-12 06:16:22</td>\n",
       "      <td>rating</td>\n",
       "      <td>3.8</td>\n",
       "    </tr>\n",
       "    <tr>\n",
       "      <th>4</th>\n",
       "      <td>4.7</td>\n",
       "      <td>2024-04-21 03:48:27</td>\n",
       "      <td>rating</td>\n",
       "      <td>3.2</td>\n",
       "    </tr>\n",
       "    <tr>\n",
       "      <th>...</th>\n",
       "      <td>...</td>\n",
       "      <td>...</td>\n",
       "      <td>...</td>\n",
       "      <td>...</td>\n",
       "    </tr>\n",
       "    <tr>\n",
       "      <th>2509</th>\n",
       "      <td>1.1.2-beta</td>\n",
       "      <td>2023-11-23 01:07:30</td>\n",
       "      <td>rating</td>\n",
       "      <td>3.0</td>\n",
       "    </tr>\n",
       "    <tr>\n",
       "      <th>2510</th>\n",
       "      <td>v12.0.80</td>\n",
       "      <td>2025-06-05 16:42:20</td>\n",
       "      <td>rating</td>\n",
       "      <td>1.9</td>\n",
       "    </tr>\n",
       "    <tr>\n",
       "      <th>2511</th>\n",
       "      <td>9.1.32.4821</td>\n",
       "      <td>2024-06-15 05:02:18</td>\n",
       "      <td>rating</td>\n",
       "      <td>3.4</td>\n",
       "    </tr>\n",
       "    <tr>\n",
       "      <th>2512</th>\n",
       "      <td>v8.9.13</td>\n",
       "      <td>2023-12-02 01:41:31</td>\n",
       "      <td>rating</td>\n",
       "      <td>2.7</td>\n",
       "    </tr>\n",
       "    <tr>\n",
       "      <th>2513</th>\n",
       "      <td>2.2</td>\n",
       "      <td>2025-03-04 02:51:17</td>\n",
       "      <td>rating</td>\n",
       "      <td>2.1</td>\n",
       "    </tr>\n",
       "  </tbody>\n",
       "</table>\n",
       "<p>2514 rows × 4 columns</p>\n",
       "</div>"
      ],
      "text/plain": [
       "      app_version          review_date variable  value\n",
       "0             1.4  2024-10-09 19:26:40   rating    1.3\n",
       "1             8.9  2024-06-21 17:29:40   rating    1.6\n",
       "2     2.8.37.5926  2024-10-31 13:47:12   rating    3.6\n",
       "3            10.2  2025-03-12 06:16:22   rating    3.8\n",
       "4             4.7  2024-04-21 03:48:27   rating    3.2\n",
       "...           ...                  ...      ...    ...\n",
       "2509   1.1.2-beta  2023-11-23 01:07:30   rating    3.0\n",
       "2510     v12.0.80  2025-06-05 16:42:20   rating    1.9\n",
       "2511  9.1.32.4821  2024-06-15 05:02:18   rating    3.4\n",
       "2512      v8.9.13  2023-12-02 01:41:31   rating    2.7\n",
       "2513          2.2  2025-03-04 02:51:17   rating    2.1\n",
       "\n",
       "[2514 rows x 4 columns]"
      ]
     },
     "execution_count": 302,
     "metadata": {},
     "output_type": "execute_result"
    }
   ],
   "source": [
    "pd.melt(df,id_vars=['app_version',\"review_date\"],value_vars=\"rating\")"
   ]
  },
  {
   "cell_type": "markdown",
   "id": "347547ad",
   "metadata": {},
   "source": [
    "Observation - Newer versions and latest reviews combine together are generating better ratings"
   ]
  },
  {
   "cell_type": "markdown",
   "id": "bab26814",
   "metadata": {},
   "source": [
    "4. Do you think verified_purchase makes reviews more trustworthy? Justify your answer."
   ]
  },
  {
   "cell_type": "code",
   "execution_count": 303,
   "id": "784b7f8d",
   "metadata": {},
   "outputs": [
    {
     "data": {
      "text/plain": [
       "verified_purchase\n",
       "True     1939\n",
       "False     575\n",
       "Name: count, dtype: int64"
      ]
     },
     "execution_count": 303,
     "metadata": {},
     "output_type": "execute_result"
    }
   ],
   "source": [
    "df['verified_purchase'].value_counts()"
   ]
  },
  {
   "cell_type": "markdown",
   "id": "b1fce740",
   "metadata": {},
   "source": [
    "Observation - Yes verified purchases makes for more trustworthy review as purchase enables completeaccess of the platform. According to the data there are more number of users who have purchased viewership (1939) than viewers who have not purchased viewership (575) "
   ]
  },
  {
   "cell_type": "markdown",
   "id": "16a05ba5",
   "metadata": {},
   "source": [
    "5. How would you test whether device_type has an impact on app ratings?"
   ]
  },
  {
   "cell_type": "code",
   "execution_count": 304,
   "id": "d397a777",
   "metadata": {},
   "outputs": [
    {
     "data": {
      "text/plain": [
       "device_type\n",
       "Android           5.0\n",
       "Android Tablet    5.0\n",
       "Windows Phone     5.0\n",
       "iOS               5.0\n",
       "iPad              5.0\n",
       "Name: rating, dtype: float64"
      ]
     },
     "execution_count": 304,
     "metadata": {},
     "output_type": "execute_result"
    }
   ],
   "source": [
    "df.groupby(\"device_type\")['rating'].max()"
   ]
  },
  {
   "cell_type": "markdown",
   "id": "ba3f1fce",
   "metadata": {},
   "source": [
    "Observation - Maximum Rating across all device is 5"
   ]
  },
  {
   "cell_type": "markdown",
   "id": "63cae981",
   "metadata": {},
   "source": [
    "6. If you had to find which age group is most satisfied, what steps would you follow?"
   ]
  },
  {
   "cell_type": "code",
   "execution_count": 305,
   "id": "5e89e6c1",
   "metadata": {},
   "outputs": [
    {
     "data": {
      "text/plain": [
       "user_age\n",
       "13.0    2.823810\n",
       "14.0    2.711429\n",
       "15.0    3.038235\n",
       "16.0    3.194736\n",
       "17.0    3.294737\n",
       "          ...   \n",
       "71.0    2.858974\n",
       "72.0    3.194118\n",
       "73.0    3.200390\n",
       "74.0    3.177778\n",
       "75.0    3.030722\n",
       "Name: rating, Length: 63, dtype: float64"
      ]
     },
     "execution_count": 305,
     "metadata": {},
     "output_type": "execute_result"
    }
   ],
   "source": [
    "df.groupby(\"user_age\")['rating'].mean()"
   ]
  },
  {
   "cell_type": "markdown",
   "id": "ec4a3d0b",
   "metadata": {},
   "source": [
    "Observation - The younger age group from 13 to 15 and the old age group from 73 to 75 have given most reviews"
   ]
  },
  {
   "cell_type": "markdown",
   "id": "8277e460",
   "metadata": {},
   "source": [
    "7. How would you identify fake or unreliable reviews using num_helpful_votes and review_text?"
   ]
  },
  {
   "cell_type": "code",
   "execution_count": 306,
   "id": "827571d7",
   "metadata": {},
   "outputs": [
    {
     "data": {
      "text/html": [
       "<div>\n",
       "<style scoped>\n",
       "    .dataframe tbody tr th:only-of-type {\n",
       "        vertical-align: middle;\n",
       "    }\n",
       "\n",
       "    .dataframe tbody tr th {\n",
       "        vertical-align: top;\n",
       "    }\n",
       "\n",
       "    .dataframe thead th {\n",
       "        text-align: right;\n",
       "    }\n",
       "</style>\n",
       "<table border=\"1\" class=\"dataframe\">\n",
       "  <thead>\n",
       "    <tr style=\"text-align: right;\">\n",
       "      <th></th>\n",
       "      <th>rating</th>\n",
       "    </tr>\n",
       "  </thead>\n",
       "  <tbody>\n",
       "    <tr>\n",
       "      <th>0</th>\n",
       "      <td>1.3</td>\n",
       "    </tr>\n",
       "    <tr>\n",
       "      <th>1</th>\n",
       "      <td>1.6</td>\n",
       "    </tr>\n",
       "    <tr>\n",
       "      <th>2</th>\n",
       "      <td>3.6</td>\n",
       "    </tr>\n",
       "    <tr>\n",
       "      <th>3</th>\n",
       "      <td>3.8</td>\n",
       "    </tr>\n",
       "    <tr>\n",
       "      <th>4</th>\n",
       "      <td>3.2</td>\n",
       "    </tr>\n",
       "    <tr>\n",
       "      <th>...</th>\n",
       "      <td>...</td>\n",
       "    </tr>\n",
       "    <tr>\n",
       "      <th>2509</th>\n",
       "      <td>3.0</td>\n",
       "    </tr>\n",
       "    <tr>\n",
       "      <th>2510</th>\n",
       "      <td>1.9</td>\n",
       "    </tr>\n",
       "    <tr>\n",
       "      <th>2511</th>\n",
       "      <td>3.4</td>\n",
       "    </tr>\n",
       "    <tr>\n",
       "      <th>2512</th>\n",
       "      <td>2.7</td>\n",
       "    </tr>\n",
       "    <tr>\n",
       "      <th>2513</th>\n",
       "      <td>2.1</td>\n",
       "    </tr>\n",
       "  </tbody>\n",
       "</table>\n",
       "<p>2483 rows × 1 columns</p>\n",
       "</div>"
      ],
      "text/plain": [
       "      rating\n",
       "0        1.3\n",
       "1        1.6\n",
       "2        3.6\n",
       "3        3.8\n",
       "4        3.2\n",
       "...      ...\n",
       "2509     3.0\n",
       "2510     1.9\n",
       "2511     3.4\n",
       "2512     2.7\n",
       "2513     2.1\n",
       "\n",
       "[2483 rows x 1 columns]"
      ]
     },
     "execution_count": 306,
     "metadata": {},
     "output_type": "execute_result"
    }
   ],
   "source": [
    "df.loc[len(df['review_text'])>20 and df['num_helpful_votes']>10,['rating']]"
   ]
  },
  {
   "cell_type": "markdown",
   "id": "1c365639",
   "metadata": {},
   "source": [
    "# coclusion:\n",
    "\n",
    "The target is to find out what factors (language, gender, age, purchase status, category, version, device, etc.) most influence user ratings and satisfaction"
   ]
  },
  {
   "cell_type": "markdown",
   "id": "3c3e06e9",
   "metadata": {},
   "source": [
    "1. Suppose you are an app developer: what insights from this dataset would help you improve\n",
    "your app?"
   ]
  },
  {
   "cell_type": "markdown",
   "id": "f87b1e9c",
   "metadata": {},
   "source": [
    "Ans - Targetting younger and older age groups, Keeping platfor available for all device types "
   ]
  },
  {
   "cell_type": "markdown",
   "id": "bcabbdf2",
   "metadata": {},
   "source": [
    "\n",
    "2. Propose one machine learning project idea using this dataset and describe its expected\n",
    "outcome"
   ]
  },
  {
   "cell_type": "markdown",
   "id": "eb836206",
   "metadata": {},
   "source": [
    "Ans - Review Management System using Regression based model to predict the rating of a platform based on numerous differrent features"
   ]
  },
  {
   "cell_type": "markdown",
   "id": "c64cd41c",
   "metadata": {},
   "source": [
    "# language reference\n",
    "\n",
    "\n",
    "\n",
    "| Code   | Language           |\n",
    "| ------ | ------------------ |\n",
    "| **no** | Norwegian          |\n",
    "| **ru** | Russian            |\n",
    "| **es** | Spanish            |\n",
    "| **vi** | Vietnamese         |\n",
    "| **tl** | Tagalog (Filipino) |\n",
    "| **th** | Thai               |\n",
    "| **da** | Danish             |\n",
    "| **ja** | Japanese           |\n",
    "| **ms** | Malay              |\n",
    "| **fr** | French             |\n",
    "| **it** | Italian            |\n",
    "| **nl** | Dutch              |\n",
    "| **hi** | Hindi              |\n",
    "| **ar** | Arabic             |\n",
    "| **zh** | Chinese            |\n",
    "| **id** | Indonesian         |\n",
    "| **pl** | Polish             |\n",
    "| **ko** | Korean             |\n",
    "| **sv** | Swedish            |\n",
    "| **pt** | Portuguese         |\n",
    "| **tr** | Turkish            |\n",
    "| **fi** | Finnish            |\n",
    "| **de** | German             |\n",
    "| **en** | English            |\n"
   ]
  },
  {
   "cell_type": "code",
   "execution_count": 307,
   "id": "9d820a14",
   "metadata": {},
   "outputs": [],
   "source": [
    "x = df.drop(columns=\"rating\")\n",
    "y = df['rating']\n",
    "\n",
    "xtrain,xtest,ytrain,ytest = train_test_split(x,y,random_state=42,train_size=0.8)\n",
    "cat_cols = x.select_dtypes(include=['object'])\n",
    "num_cols = x.select_dtypes(include=['number']).columns\n",
    "cat_cols = cat_cols.drop(columns=\"review_text\")"
   ]
  },
  {
   "cell_type": "code",
   "execution_count": 308,
   "id": "9d6c244b",
   "metadata": {},
   "outputs": [],
   "source": [
    "preprocess = ColumnTransformer(\n",
    "    transformers=[\n",
    "        (\"encoding\",OneHotEncoder(sparse_output=False,handle_unknown=\"ignore\"),cat_cols),\n",
    "        (\"scale\",StandardScaler(),num_cols),\n",
    "    ]\n",
    ")"
   ]
  },
  {
   "cell_type": "code",
   "execution_count": 309,
   "id": "34487fe6",
   "metadata": {},
   "outputs": [],
   "source": [
    "tfidf = ColumnTransformer(\n",
    "    transformers=[\n",
    "        (\"sentence\",TfidfVectorizer(),'[review_text]')\n",
    "    ]\n",
    ")"
   ]
  },
  {
   "cell_type": "code",
   "execution_count": 310,
   "id": "c157bb41",
   "metadata": {},
   "outputs": [],
   "source": [
    "model = Pipeline(\n",
    "    steps=[\n",
    "        (\"preprocess\",preprocess),\n",
    "        (\"tfidf\",tfidf),\n",
    "        (\"algorithm\",XGBRegressor())\n",
    "    ]\n",
    ")"
   ]
  },
  {
   "cell_type": "code",
   "execution_count": 311,
   "id": "5724eecb",
   "metadata": {},
   "outputs": [
    {
     "ename": "ValueError",
     "evalue": "No valid specification of the columns. Only a scalar, list or slice of all integers or all strings, or boolean mask is allowed",
     "output_type": "error",
     "traceback": [
      "\u001b[31m---------------------------------------------------------------------------\u001b[39m",
      "\u001b[31mValueError\u001b[39m                                Traceback (most recent call last)",
      "\u001b[36mCell\u001b[39m\u001b[36m \u001b[39m\u001b[32mIn[311]\u001b[39m\u001b[32m, line 1\u001b[39m\n\u001b[32m----> \u001b[39m\u001b[32m1\u001b[39m \u001b[43mmodel\u001b[49m\u001b[43m.\u001b[49m\u001b[43mfit\u001b[49m\u001b[43m(\u001b[49m\u001b[43mxtrain\u001b[49m\u001b[43m,\u001b[49m\u001b[43mytrain\u001b[49m\u001b[43m)\u001b[49m\n",
      "\u001b[36mFile \u001b[39m\u001b[32m~\\AppData\\Roaming\\Python\\Python313\\site-packages\\sklearn\\base.py:1365\u001b[39m, in \u001b[36m_fit_context.<locals>.decorator.<locals>.wrapper\u001b[39m\u001b[34m(estimator, *args, **kwargs)\u001b[39m\n\u001b[32m   1358\u001b[39m     estimator._validate_params()\n\u001b[32m   1360\u001b[39m \u001b[38;5;28;01mwith\u001b[39;00m config_context(\n\u001b[32m   1361\u001b[39m     skip_parameter_validation=(\n\u001b[32m   1362\u001b[39m         prefer_skip_nested_validation \u001b[38;5;129;01mor\u001b[39;00m global_skip_validation\n\u001b[32m   1363\u001b[39m     )\n\u001b[32m   1364\u001b[39m ):\n\u001b[32m-> \u001b[39m\u001b[32m1365\u001b[39m     \u001b[38;5;28;01mreturn\u001b[39;00m \u001b[43mfit_method\u001b[49m\u001b[43m(\u001b[49m\u001b[43mestimator\u001b[49m\u001b[43m,\u001b[49m\u001b[43m \u001b[49m\u001b[43m*\u001b[49m\u001b[43margs\u001b[49m\u001b[43m,\u001b[49m\u001b[43m \u001b[49m\u001b[43m*\u001b[49m\u001b[43m*\u001b[49m\u001b[43mkwargs\u001b[49m\u001b[43m)\u001b[49m\n",
      "\u001b[36mFile \u001b[39m\u001b[32m~\\AppData\\Roaming\\Python\\Python313\\site-packages\\sklearn\\pipeline.py:655\u001b[39m, in \u001b[36mPipeline.fit\u001b[39m\u001b[34m(self, X, y, **params)\u001b[39m\n\u001b[32m    648\u001b[39m     \u001b[38;5;28;01mraise\u001b[39;00m \u001b[38;5;167;01mValueError\u001b[39;00m(\n\u001b[32m    649\u001b[39m         \u001b[33m\"\u001b[39m\u001b[33mThe `transform_input` parameter can only be set if metadata \u001b[39m\u001b[33m\"\u001b[39m\n\u001b[32m    650\u001b[39m         \u001b[33m\"\u001b[39m\u001b[33mrouting is enabled. You can enable metadata routing using \u001b[39m\u001b[33m\"\u001b[39m\n\u001b[32m    651\u001b[39m         \u001b[33m\"\u001b[39m\u001b[33m`sklearn.set_config(enable_metadata_routing=True)`.\u001b[39m\u001b[33m\"\u001b[39m\n\u001b[32m    652\u001b[39m     )\n\u001b[32m    654\u001b[39m routed_params = \u001b[38;5;28mself\u001b[39m._check_method_params(method=\u001b[33m\"\u001b[39m\u001b[33mfit\u001b[39m\u001b[33m\"\u001b[39m, props=params)\n\u001b[32m--> \u001b[39m\u001b[32m655\u001b[39m Xt = \u001b[38;5;28;43mself\u001b[39;49m\u001b[43m.\u001b[49m\u001b[43m_fit\u001b[49m\u001b[43m(\u001b[49m\u001b[43mX\u001b[49m\u001b[43m,\u001b[49m\u001b[43m \u001b[49m\u001b[43my\u001b[49m\u001b[43m,\u001b[49m\u001b[43m \u001b[49m\u001b[43mrouted_params\u001b[49m\u001b[43m,\u001b[49m\u001b[43m \u001b[49m\u001b[43mraw_params\u001b[49m\u001b[43m=\u001b[49m\u001b[43mparams\u001b[49m\u001b[43m)\u001b[49m\n\u001b[32m    656\u001b[39m \u001b[38;5;28;01mwith\u001b[39;00m _print_elapsed_time(\u001b[33m\"\u001b[39m\u001b[33mPipeline\u001b[39m\u001b[33m\"\u001b[39m, \u001b[38;5;28mself\u001b[39m._log_message(\u001b[38;5;28mlen\u001b[39m(\u001b[38;5;28mself\u001b[39m.steps) - \u001b[32m1\u001b[39m)):\n\u001b[32m    657\u001b[39m     \u001b[38;5;28;01mif\u001b[39;00m \u001b[38;5;28mself\u001b[39m._final_estimator != \u001b[33m\"\u001b[39m\u001b[33mpassthrough\u001b[39m\u001b[33m\"\u001b[39m:\n",
      "\u001b[36mFile \u001b[39m\u001b[32m~\\AppData\\Roaming\\Python\\Python313\\site-packages\\sklearn\\pipeline.py:589\u001b[39m, in \u001b[36mPipeline._fit\u001b[39m\u001b[34m(self, X, y, routed_params, raw_params)\u001b[39m\n\u001b[32m    582\u001b[39m \u001b[38;5;66;03m# Fit or load from cache the current transformer\u001b[39;00m\n\u001b[32m    583\u001b[39m step_params = \u001b[38;5;28mself\u001b[39m._get_metadata_for_step(\n\u001b[32m    584\u001b[39m     step_idx=step_idx,\n\u001b[32m    585\u001b[39m     step_params=routed_params[name],\n\u001b[32m    586\u001b[39m     all_params=raw_params,\n\u001b[32m    587\u001b[39m )\n\u001b[32m--> \u001b[39m\u001b[32m589\u001b[39m X, fitted_transformer = \u001b[43mfit_transform_one_cached\u001b[49m\u001b[43m(\u001b[49m\n\u001b[32m    590\u001b[39m \u001b[43m    \u001b[49m\u001b[43mcloned_transformer\u001b[49m\u001b[43m,\u001b[49m\n\u001b[32m    591\u001b[39m \u001b[43m    \u001b[49m\u001b[43mX\u001b[49m\u001b[43m,\u001b[49m\n\u001b[32m    592\u001b[39m \u001b[43m    \u001b[49m\u001b[43my\u001b[49m\u001b[43m,\u001b[49m\n\u001b[32m    593\u001b[39m \u001b[43m    \u001b[49m\u001b[43mweight\u001b[49m\u001b[43m=\u001b[49m\u001b[38;5;28;43;01mNone\u001b[39;49;00m\u001b[43m,\u001b[49m\n\u001b[32m    594\u001b[39m \u001b[43m    \u001b[49m\u001b[43mmessage_clsname\u001b[49m\u001b[43m=\u001b[49m\u001b[33;43m\"\u001b[39;49m\u001b[33;43mPipeline\u001b[39;49m\u001b[33;43m\"\u001b[39;49m\u001b[43m,\u001b[49m\n\u001b[32m    595\u001b[39m \u001b[43m    \u001b[49m\u001b[43mmessage\u001b[49m\u001b[43m=\u001b[49m\u001b[38;5;28;43mself\u001b[39;49m\u001b[43m.\u001b[49m\u001b[43m_log_message\u001b[49m\u001b[43m(\u001b[49m\u001b[43mstep_idx\u001b[49m\u001b[43m)\u001b[49m\u001b[43m,\u001b[49m\n\u001b[32m    596\u001b[39m \u001b[43m    \u001b[49m\u001b[43mparams\u001b[49m\u001b[43m=\u001b[49m\u001b[43mstep_params\u001b[49m\u001b[43m,\u001b[49m\n\u001b[32m    597\u001b[39m \u001b[43m\u001b[49m\u001b[43m)\u001b[49m\n\u001b[32m    598\u001b[39m \u001b[38;5;66;03m# Replace the transformer of the step with the fitted\u001b[39;00m\n\u001b[32m    599\u001b[39m \u001b[38;5;66;03m# transformer. This is necessary when loading the transformer\u001b[39;00m\n\u001b[32m    600\u001b[39m \u001b[38;5;66;03m# from the cache.\u001b[39;00m\n\u001b[32m    601\u001b[39m \u001b[38;5;28mself\u001b[39m.steps[step_idx] = (name, fitted_transformer)\n",
      "\u001b[36mFile \u001b[39m\u001b[32m~\\AppData\\Roaming\\Python\\Python313\\site-packages\\joblib\\memory.py:326\u001b[39m, in \u001b[36mNotMemorizedFunc.__call__\u001b[39m\u001b[34m(self, *args, **kwargs)\u001b[39m\n\u001b[32m    325\u001b[39m \u001b[38;5;28;01mdef\u001b[39;00m\u001b[38;5;250m \u001b[39m\u001b[34m__call__\u001b[39m(\u001b[38;5;28mself\u001b[39m, *args, **kwargs):\n\u001b[32m--> \u001b[39m\u001b[32m326\u001b[39m     \u001b[38;5;28;01mreturn\u001b[39;00m \u001b[38;5;28;43mself\u001b[39;49m\u001b[43m.\u001b[49m\u001b[43mfunc\u001b[49m\u001b[43m(\u001b[49m\u001b[43m*\u001b[49m\u001b[43margs\u001b[49m\u001b[43m,\u001b[49m\u001b[43m \u001b[49m\u001b[43m*\u001b[49m\u001b[43m*\u001b[49m\u001b[43mkwargs\u001b[49m\u001b[43m)\u001b[49m\n",
      "\u001b[36mFile \u001b[39m\u001b[32m~\\AppData\\Roaming\\Python\\Python313\\site-packages\\sklearn\\pipeline.py:1540\u001b[39m, in \u001b[36m_fit_transform_one\u001b[39m\u001b[34m(transformer, X, y, weight, message_clsname, message, params)\u001b[39m\n\u001b[32m   1538\u001b[39m \u001b[38;5;28;01mwith\u001b[39;00m _print_elapsed_time(message_clsname, message):\n\u001b[32m   1539\u001b[39m     \u001b[38;5;28;01mif\u001b[39;00m \u001b[38;5;28mhasattr\u001b[39m(transformer, \u001b[33m\"\u001b[39m\u001b[33mfit_transform\u001b[39m\u001b[33m\"\u001b[39m):\n\u001b[32m-> \u001b[39m\u001b[32m1540\u001b[39m         res = \u001b[43mtransformer\u001b[49m\u001b[43m.\u001b[49m\u001b[43mfit_transform\u001b[49m\u001b[43m(\u001b[49m\u001b[43mX\u001b[49m\u001b[43m,\u001b[49m\u001b[43m \u001b[49m\u001b[43my\u001b[49m\u001b[43m,\u001b[49m\u001b[43m \u001b[49m\u001b[43m*\u001b[49m\u001b[43m*\u001b[49m\u001b[43mparams\u001b[49m\u001b[43m.\u001b[49m\u001b[43mget\u001b[49m\u001b[43m(\u001b[49m\u001b[33;43m\"\u001b[39;49m\u001b[33;43mfit_transform\u001b[39;49m\u001b[33;43m\"\u001b[39;49m\u001b[43m,\u001b[49m\u001b[43m \u001b[49m\u001b[43m{\u001b[49m\u001b[43m}\u001b[49m\u001b[43m)\u001b[49m\u001b[43m)\u001b[49m\n\u001b[32m   1541\u001b[39m     \u001b[38;5;28;01melse\u001b[39;00m:\n\u001b[32m   1542\u001b[39m         res = transformer.fit(X, y, **params.get(\u001b[33m\"\u001b[39m\u001b[33mfit\u001b[39m\u001b[33m\"\u001b[39m, {})).transform(\n\u001b[32m   1543\u001b[39m             X, **params.get(\u001b[33m\"\u001b[39m\u001b[33mtransform\u001b[39m\u001b[33m\"\u001b[39m, {})\n\u001b[32m   1544\u001b[39m         )\n",
      "\u001b[36mFile \u001b[39m\u001b[32m~\\AppData\\Roaming\\Python\\Python313\\site-packages\\sklearn\\utils\\_set_output.py:316\u001b[39m, in \u001b[36m_wrap_method_output.<locals>.wrapped\u001b[39m\u001b[34m(self, X, *args, **kwargs)\u001b[39m\n\u001b[32m    314\u001b[39m \u001b[38;5;129m@wraps\u001b[39m(f)\n\u001b[32m    315\u001b[39m \u001b[38;5;28;01mdef\u001b[39;00m\u001b[38;5;250m \u001b[39m\u001b[34mwrapped\u001b[39m(\u001b[38;5;28mself\u001b[39m, X, *args, **kwargs):\n\u001b[32m--> \u001b[39m\u001b[32m316\u001b[39m     data_to_wrap = \u001b[43mf\u001b[49m\u001b[43m(\u001b[49m\u001b[38;5;28;43mself\u001b[39;49m\u001b[43m,\u001b[49m\u001b[43m \u001b[49m\u001b[43mX\u001b[49m\u001b[43m,\u001b[49m\u001b[43m \u001b[49m\u001b[43m*\u001b[49m\u001b[43margs\u001b[49m\u001b[43m,\u001b[49m\u001b[43m \u001b[49m\u001b[43m*\u001b[49m\u001b[43m*\u001b[49m\u001b[43mkwargs\u001b[49m\u001b[43m)\u001b[49m\n\u001b[32m    317\u001b[39m     \u001b[38;5;28;01mif\u001b[39;00m \u001b[38;5;28misinstance\u001b[39m(data_to_wrap, \u001b[38;5;28mtuple\u001b[39m):\n\u001b[32m    318\u001b[39m         \u001b[38;5;66;03m# only wrap the first output for cross decomposition\u001b[39;00m\n\u001b[32m    319\u001b[39m         return_tuple = (\n\u001b[32m    320\u001b[39m             _wrap_data_with_container(method, data_to_wrap[\u001b[32m0\u001b[39m], X, \u001b[38;5;28mself\u001b[39m),\n\u001b[32m    321\u001b[39m             *data_to_wrap[\u001b[32m1\u001b[39m:],\n\u001b[32m    322\u001b[39m         )\n",
      "\u001b[36mFile \u001b[39m\u001b[32m~\\AppData\\Roaming\\Python\\Python313\\site-packages\\sklearn\\base.py:1365\u001b[39m, in \u001b[36m_fit_context.<locals>.decorator.<locals>.wrapper\u001b[39m\u001b[34m(estimator, *args, **kwargs)\u001b[39m\n\u001b[32m   1358\u001b[39m     estimator._validate_params()\n\u001b[32m   1360\u001b[39m \u001b[38;5;28;01mwith\u001b[39;00m config_context(\n\u001b[32m   1361\u001b[39m     skip_parameter_validation=(\n\u001b[32m   1362\u001b[39m         prefer_skip_nested_validation \u001b[38;5;129;01mor\u001b[39;00m global_skip_validation\n\u001b[32m   1363\u001b[39m     )\n\u001b[32m   1364\u001b[39m ):\n\u001b[32m-> \u001b[39m\u001b[32m1365\u001b[39m     \u001b[38;5;28;01mreturn\u001b[39;00m \u001b[43mfit_method\u001b[49m\u001b[43m(\u001b[49m\u001b[43mestimator\u001b[49m\u001b[43m,\u001b[49m\u001b[43m \u001b[49m\u001b[43m*\u001b[49m\u001b[43margs\u001b[49m\u001b[43m,\u001b[49m\u001b[43m \u001b[49m\u001b[43m*\u001b[49m\u001b[43m*\u001b[49m\u001b[43mkwargs\u001b[49m\u001b[43m)\u001b[49m\n",
      "\u001b[36mFile \u001b[39m\u001b[32m~\\AppData\\Roaming\\Python\\Python313\\site-packages\\sklearn\\compose\\_column_transformer.py:988\u001b[39m, in \u001b[36mColumnTransformer.fit_transform\u001b[39m\u001b[34m(self, X, y, **params)\u001b[39m\n\u001b[32m    985\u001b[39m \u001b[38;5;28mself\u001b[39m._validate_transformers()\n\u001b[32m    986\u001b[39m n_samples = _num_samples(X)\n\u001b[32m--> \u001b[39m\u001b[32m988\u001b[39m \u001b[38;5;28;43mself\u001b[39;49m\u001b[43m.\u001b[49m\u001b[43m_validate_column_callables\u001b[49m\u001b[43m(\u001b[49m\u001b[43mX\u001b[49m\u001b[43m)\u001b[49m\n\u001b[32m    989\u001b[39m \u001b[38;5;28mself\u001b[39m._validate_remainder(X)\n\u001b[32m    991\u001b[39m \u001b[38;5;28;01mif\u001b[39;00m _routing_enabled():\n",
      "\u001b[36mFile \u001b[39m\u001b[32m~\\AppData\\Roaming\\Python\\Python313\\site-packages\\sklearn\\compose\\_column_transformer.py:541\u001b[39m, in \u001b[36mColumnTransformer._validate_column_callables\u001b[39m\u001b[34m(self, X)\u001b[39m\n\u001b[32m    539\u001b[39m         columns = columns(X)\n\u001b[32m    540\u001b[39m     all_columns.append(columns)\n\u001b[32m--> \u001b[39m\u001b[32m541\u001b[39m     transformer_to_input_indices[name] = \u001b[43m_get_column_indices\u001b[49m\u001b[43m(\u001b[49m\u001b[43mX\u001b[49m\u001b[43m,\u001b[49m\u001b[43m \u001b[49m\u001b[43mcolumns\u001b[49m\u001b[43m)\u001b[49m\n\u001b[32m    543\u001b[39m \u001b[38;5;28mself\u001b[39m._columns = all_columns\n\u001b[32m    544\u001b[39m \u001b[38;5;28mself\u001b[39m._transformer_to_input_indices = transformer_to_input_indices\n",
      "\u001b[36mFile \u001b[39m\u001b[32m~\\AppData\\Roaming\\Python\\Python313\\site-packages\\sklearn\\utils\\_indexing.py:408\u001b[39m, in \u001b[36m_get_column_indices\u001b[39m\u001b[34m(X, key)\u001b[39m\n\u001b[32m    402\u001b[39m \u001b[38;5;28;01mdef\u001b[39;00m\u001b[38;5;250m \u001b[39m\u001b[34m_get_column_indices\u001b[39m(X, key):\n\u001b[32m    403\u001b[39m \u001b[38;5;250m    \u001b[39m\u001b[33;03m\"\"\"Get feature column indices for input data X and key.\u001b[39;00m\n\u001b[32m    404\u001b[39m \n\u001b[32m    405\u001b[39m \u001b[33;03m    For accepted values of `key`, see the docstring of\u001b[39;00m\n\u001b[32m    406\u001b[39m \u001b[33;03m    :func:`_safe_indexing`.\u001b[39;00m\n\u001b[32m    407\u001b[39m \u001b[33;03m    \"\"\"\u001b[39;00m\n\u001b[32m--> \u001b[39m\u001b[32m408\u001b[39m     key_dtype = \u001b[43m_determine_key_type\u001b[49m\u001b[43m(\u001b[49m\u001b[43mkey\u001b[49m\u001b[43m)\u001b[49m\n\u001b[32m    409\u001b[39m     \u001b[38;5;28;01mif\u001b[39;00m _use_interchange_protocol(X):\n\u001b[32m    410\u001b[39m         \u001b[38;5;28;01mreturn\u001b[39;00m _get_column_indices_interchange(X.__dataframe__(), key, key_dtype)\n",
      "\u001b[36mFile \u001b[39m\u001b[32m~\\AppData\\Roaming\\Python\\Python313\\site-packages\\sklearn\\utils\\_indexing.py:239\u001b[39m, in \u001b[36m_determine_key_type\u001b[39m\u001b[34m(key, accept_slice)\u001b[39m\n\u001b[32m    237\u001b[39m         \u001b[38;5;28;01mexcept\u001b[39;00m \u001b[38;5;167;01mKeyError\u001b[39;00m:\n\u001b[32m    238\u001b[39m             \u001b[38;5;28;01mraise\u001b[39;00m \u001b[38;5;167;01mValueError\u001b[39;00m(err_msg)\n\u001b[32m--> \u001b[39m\u001b[32m239\u001b[39m \u001b[38;5;28;01mraise\u001b[39;00m \u001b[38;5;167;01mValueError\u001b[39;00m(err_msg)\n",
      "\u001b[31mValueError\u001b[39m: No valid specification of the columns. Only a scalar, list or slice of all integers or all strings, or boolean mask is allowed"
     ]
    }
   ],
   "source": [
    "model.fit(xtrain,ytrain)"
   ]
  },
  {
   "cell_type": "code",
   "execution_count": null,
   "id": "78da9ae1",
   "metadata": {},
   "outputs": [
    {
     "ename": "AttributeError",
     "evalue": "'ColumnTransformer' object has no attribute 'transformers_'",
     "output_type": "error",
     "traceback": [
      "\u001b[31m---------------------------------------------------------------------------\u001b[39m",
      "\u001b[31mAttributeError\u001b[39m                            Traceback (most recent call last)",
      "\u001b[36mCell\u001b[39m\u001b[36m \u001b[39m\u001b[32mIn[288]\u001b[39m\u001b[32m, line 1\u001b[39m\n\u001b[32m----> \u001b[39m\u001b[32m1\u001b[39m \u001b[43mmodel\u001b[49m\u001b[43m.\u001b[49m\u001b[43mscore\u001b[49m\u001b[43m(\u001b[49m\u001b[43mxtrain\u001b[49m\u001b[43m,\u001b[49m\u001b[43mytrain\u001b[49m\u001b[43m)\u001b[49m\n",
      "\u001b[36mFile \u001b[39m\u001b[32m~\\AppData\\Roaming\\Python\\Python313\\site-packages\\sklearn\\pipeline.py:1185\u001b[39m, in \u001b[36mPipeline.score\u001b[39m\u001b[34m(self, X, y, sample_weight, **params)\u001b[39m\n\u001b[32m   1183\u001b[39m \u001b[38;5;28;01mif\u001b[39;00m \u001b[38;5;129;01mnot\u001b[39;00m _routing_enabled():\n\u001b[32m   1184\u001b[39m     \u001b[38;5;28;01mfor\u001b[39;00m _, name, transform \u001b[38;5;129;01min\u001b[39;00m \u001b[38;5;28mself\u001b[39m._iter(with_final=\u001b[38;5;28;01mFalse\u001b[39;00m):\n\u001b[32m-> \u001b[39m\u001b[32m1185\u001b[39m         Xt = \u001b[43mtransform\u001b[49m\u001b[43m.\u001b[49m\u001b[43mtransform\u001b[49m\u001b[43m(\u001b[49m\u001b[43mXt\u001b[49m\u001b[43m)\u001b[49m\n\u001b[32m   1186\u001b[39m     score_params = {}\n\u001b[32m   1187\u001b[39m     \u001b[38;5;28;01mif\u001b[39;00m sample_weight \u001b[38;5;129;01mis\u001b[39;00m \u001b[38;5;129;01mnot\u001b[39;00m \u001b[38;5;28;01mNone\u001b[39;00m:\n",
      "\u001b[36mFile \u001b[39m\u001b[32m~\\AppData\\Roaming\\Python\\Python313\\site-packages\\sklearn\\utils\\_set_output.py:316\u001b[39m, in \u001b[36m_wrap_method_output.<locals>.wrapped\u001b[39m\u001b[34m(self, X, *args, **kwargs)\u001b[39m\n\u001b[32m    314\u001b[39m \u001b[38;5;129m@wraps\u001b[39m(f)\n\u001b[32m    315\u001b[39m \u001b[38;5;28;01mdef\u001b[39;00m\u001b[38;5;250m \u001b[39m\u001b[34mwrapped\u001b[39m(\u001b[38;5;28mself\u001b[39m, X, *args, **kwargs):\n\u001b[32m--> \u001b[39m\u001b[32m316\u001b[39m     data_to_wrap = \u001b[43mf\u001b[49m\u001b[43m(\u001b[49m\u001b[38;5;28;43mself\u001b[39;49m\u001b[43m,\u001b[49m\u001b[43m \u001b[49m\u001b[43mX\u001b[49m\u001b[43m,\u001b[49m\u001b[43m \u001b[49m\u001b[43m*\u001b[49m\u001b[43margs\u001b[49m\u001b[43m,\u001b[49m\u001b[43m \u001b[49m\u001b[43m*\u001b[49m\u001b[43m*\u001b[49m\u001b[43mkwargs\u001b[49m\u001b[43m)\u001b[49m\n\u001b[32m    317\u001b[39m     \u001b[38;5;28;01mif\u001b[39;00m \u001b[38;5;28misinstance\u001b[39m(data_to_wrap, \u001b[38;5;28mtuple\u001b[39m):\n\u001b[32m    318\u001b[39m         \u001b[38;5;66;03m# only wrap the first output for cross decomposition\u001b[39;00m\n\u001b[32m    319\u001b[39m         return_tuple = (\n\u001b[32m    320\u001b[39m             _wrap_data_with_container(method, data_to_wrap[\u001b[32m0\u001b[39m], X, \u001b[38;5;28mself\u001b[39m),\n\u001b[32m    321\u001b[39m             *data_to_wrap[\u001b[32m1\u001b[39m:],\n\u001b[32m    322\u001b[39m         )\n",
      "\u001b[36mFile \u001b[39m\u001b[32m~\\AppData\\Roaming\\Python\\Python313\\site-packages\\sklearn\\compose\\_column_transformer.py:1071\u001b[39m, in \u001b[36mColumnTransformer.transform\u001b[39m\u001b[34m(self, X, **params)\u001b[39m\n\u001b[32m   1068\u001b[39m column_names = _get_feature_names(X)\n\u001b[32m   1070\u001b[39m \u001b[38;5;28;01mif\u001b[39;00m fit_dataframe_and_transform_dataframe:\n\u001b[32m-> \u001b[39m\u001b[32m1071\u001b[39m     named_transformers = \u001b[38;5;28;43mself\u001b[39;49m\u001b[43m.\u001b[49m\u001b[43mnamed_transformers_\u001b[49m\n\u001b[32m   1072\u001b[39m     \u001b[38;5;66;03m# check that all names seen in fit are in transform, unless\u001b[39;00m\n\u001b[32m   1073\u001b[39m     \u001b[38;5;66;03m# they were dropped\u001b[39;00m\n\u001b[32m   1074\u001b[39m     non_dropped_indices = [\n\u001b[32m   1075\u001b[39m         ind\n\u001b[32m   1076\u001b[39m         \u001b[38;5;28;01mfor\u001b[39;00m name, ind \u001b[38;5;129;01min\u001b[39;00m \u001b[38;5;28mself\u001b[39m._transformer_to_input_indices.items()\n\u001b[32m   1077\u001b[39m         \u001b[38;5;28;01mif\u001b[39;00m name \u001b[38;5;129;01min\u001b[39;00m named_transformers \u001b[38;5;129;01mand\u001b[39;00m named_transformers[name] != \u001b[33m\"\u001b[39m\u001b[33mdrop\u001b[39m\u001b[33m\"\u001b[39m\n\u001b[32m   1078\u001b[39m     ]\n",
      "\u001b[36mFile \u001b[39m\u001b[32m~\\AppData\\Roaming\\Python\\Python313\\site-packages\\sklearn\\compose\\_column_transformer.py:585\u001b[39m, in \u001b[36mColumnTransformer.named_transformers_\u001b[39m\u001b[34m(self)\u001b[39m\n\u001b[32m    578\u001b[39m \u001b[38;5;250m\u001b[39m\u001b[33;03m\"\"\"Access the fitted transformer by name.\u001b[39;00m\n\u001b[32m    579\u001b[39m \n\u001b[32m    580\u001b[39m \u001b[33;03mRead-only attribute to access any transformer by given name.\u001b[39;00m\n\u001b[32m    581\u001b[39m \u001b[33;03mKeys are transformer names and values are the fitted transformer\u001b[39;00m\n\u001b[32m    582\u001b[39m \u001b[33;03mobjects.\u001b[39;00m\n\u001b[32m    583\u001b[39m \u001b[33;03m\"\"\"\u001b[39;00m\n\u001b[32m    584\u001b[39m \u001b[38;5;66;03m# Use Bunch object to improve autocomplete\u001b[39;00m\n\u001b[32m--> \u001b[39m\u001b[32m585\u001b[39m \u001b[38;5;28;01mreturn\u001b[39;00m Bunch(**{name: trans \u001b[38;5;28;01mfor\u001b[39;00m name, trans, _ \u001b[38;5;129;01min\u001b[39;00m \u001b[38;5;28;43mself\u001b[39;49m\u001b[43m.\u001b[49m\u001b[43mtransformers_\u001b[49m})\n",
      "\u001b[31mAttributeError\u001b[39m: 'ColumnTransformer' object has no attribute 'transformers_'"
     ]
    }
   ],
   "source": [
    "model.score(xtrain,ytrain)"
   ]
  },
  {
   "cell_type": "code",
   "execution_count": null,
   "id": "e534f489",
   "metadata": {},
   "outputs": [
    {
     "ename": "AttributeError",
     "evalue": "'ColumnTransformer' object has no attribute 'transformers_'",
     "output_type": "error",
     "traceback": [
      "\u001b[31m---------------------------------------------------------------------------\u001b[39m",
      "\u001b[31mAttributeError\u001b[39m                            Traceback (most recent call last)",
      "\u001b[36mCell\u001b[39m\u001b[36m \u001b[39m\u001b[32mIn[289]\u001b[39m\u001b[32m, line 1\u001b[39m\n\u001b[32m----> \u001b[39m\u001b[32m1\u001b[39m \u001b[43mmodel\u001b[49m\u001b[43m.\u001b[49m\u001b[43mscore\u001b[49m\u001b[43m(\u001b[49m\u001b[43mxtest\u001b[49m\u001b[43m,\u001b[49m\u001b[43mytest\u001b[49m\u001b[43m)\u001b[49m\n",
      "\u001b[36mFile \u001b[39m\u001b[32m~\\AppData\\Roaming\\Python\\Python313\\site-packages\\sklearn\\pipeline.py:1185\u001b[39m, in \u001b[36mPipeline.score\u001b[39m\u001b[34m(self, X, y, sample_weight, **params)\u001b[39m\n\u001b[32m   1183\u001b[39m \u001b[38;5;28;01mif\u001b[39;00m \u001b[38;5;129;01mnot\u001b[39;00m _routing_enabled():\n\u001b[32m   1184\u001b[39m     \u001b[38;5;28;01mfor\u001b[39;00m _, name, transform \u001b[38;5;129;01min\u001b[39;00m \u001b[38;5;28mself\u001b[39m._iter(with_final=\u001b[38;5;28;01mFalse\u001b[39;00m):\n\u001b[32m-> \u001b[39m\u001b[32m1185\u001b[39m         Xt = \u001b[43mtransform\u001b[49m\u001b[43m.\u001b[49m\u001b[43mtransform\u001b[49m\u001b[43m(\u001b[49m\u001b[43mXt\u001b[49m\u001b[43m)\u001b[49m\n\u001b[32m   1186\u001b[39m     score_params = {}\n\u001b[32m   1187\u001b[39m     \u001b[38;5;28;01mif\u001b[39;00m sample_weight \u001b[38;5;129;01mis\u001b[39;00m \u001b[38;5;129;01mnot\u001b[39;00m \u001b[38;5;28;01mNone\u001b[39;00m:\n",
      "\u001b[36mFile \u001b[39m\u001b[32m~\\AppData\\Roaming\\Python\\Python313\\site-packages\\sklearn\\utils\\_set_output.py:316\u001b[39m, in \u001b[36m_wrap_method_output.<locals>.wrapped\u001b[39m\u001b[34m(self, X, *args, **kwargs)\u001b[39m\n\u001b[32m    314\u001b[39m \u001b[38;5;129m@wraps\u001b[39m(f)\n\u001b[32m    315\u001b[39m \u001b[38;5;28;01mdef\u001b[39;00m\u001b[38;5;250m \u001b[39m\u001b[34mwrapped\u001b[39m(\u001b[38;5;28mself\u001b[39m, X, *args, **kwargs):\n\u001b[32m--> \u001b[39m\u001b[32m316\u001b[39m     data_to_wrap = \u001b[43mf\u001b[49m\u001b[43m(\u001b[49m\u001b[38;5;28;43mself\u001b[39;49m\u001b[43m,\u001b[49m\u001b[43m \u001b[49m\u001b[43mX\u001b[49m\u001b[43m,\u001b[49m\u001b[43m \u001b[49m\u001b[43m*\u001b[49m\u001b[43margs\u001b[49m\u001b[43m,\u001b[49m\u001b[43m \u001b[49m\u001b[43m*\u001b[49m\u001b[43m*\u001b[49m\u001b[43mkwargs\u001b[49m\u001b[43m)\u001b[49m\n\u001b[32m    317\u001b[39m     \u001b[38;5;28;01mif\u001b[39;00m \u001b[38;5;28misinstance\u001b[39m(data_to_wrap, \u001b[38;5;28mtuple\u001b[39m):\n\u001b[32m    318\u001b[39m         \u001b[38;5;66;03m# only wrap the first output for cross decomposition\u001b[39;00m\n\u001b[32m    319\u001b[39m         return_tuple = (\n\u001b[32m    320\u001b[39m             _wrap_data_with_container(method, data_to_wrap[\u001b[32m0\u001b[39m], X, \u001b[38;5;28mself\u001b[39m),\n\u001b[32m    321\u001b[39m             *data_to_wrap[\u001b[32m1\u001b[39m:],\n\u001b[32m    322\u001b[39m         )\n",
      "\u001b[36mFile \u001b[39m\u001b[32m~\\AppData\\Roaming\\Python\\Python313\\site-packages\\sklearn\\compose\\_column_transformer.py:1071\u001b[39m, in \u001b[36mColumnTransformer.transform\u001b[39m\u001b[34m(self, X, **params)\u001b[39m\n\u001b[32m   1068\u001b[39m column_names = _get_feature_names(X)\n\u001b[32m   1070\u001b[39m \u001b[38;5;28;01mif\u001b[39;00m fit_dataframe_and_transform_dataframe:\n\u001b[32m-> \u001b[39m\u001b[32m1071\u001b[39m     named_transformers = \u001b[38;5;28;43mself\u001b[39;49m\u001b[43m.\u001b[49m\u001b[43mnamed_transformers_\u001b[49m\n\u001b[32m   1072\u001b[39m     \u001b[38;5;66;03m# check that all names seen in fit are in transform, unless\u001b[39;00m\n\u001b[32m   1073\u001b[39m     \u001b[38;5;66;03m# they were dropped\u001b[39;00m\n\u001b[32m   1074\u001b[39m     non_dropped_indices = [\n\u001b[32m   1075\u001b[39m         ind\n\u001b[32m   1076\u001b[39m         \u001b[38;5;28;01mfor\u001b[39;00m name, ind \u001b[38;5;129;01min\u001b[39;00m \u001b[38;5;28mself\u001b[39m._transformer_to_input_indices.items()\n\u001b[32m   1077\u001b[39m         \u001b[38;5;28;01mif\u001b[39;00m name \u001b[38;5;129;01min\u001b[39;00m named_transformers \u001b[38;5;129;01mand\u001b[39;00m named_transformers[name] != \u001b[33m\"\u001b[39m\u001b[33mdrop\u001b[39m\u001b[33m\"\u001b[39m\n\u001b[32m   1078\u001b[39m     ]\n",
      "\u001b[36mFile \u001b[39m\u001b[32m~\\AppData\\Roaming\\Python\\Python313\\site-packages\\sklearn\\compose\\_column_transformer.py:585\u001b[39m, in \u001b[36mColumnTransformer.named_transformers_\u001b[39m\u001b[34m(self)\u001b[39m\n\u001b[32m    578\u001b[39m \u001b[38;5;250m\u001b[39m\u001b[33;03m\"\"\"Access the fitted transformer by name.\u001b[39;00m\n\u001b[32m    579\u001b[39m \n\u001b[32m    580\u001b[39m \u001b[33;03mRead-only attribute to access any transformer by given name.\u001b[39;00m\n\u001b[32m    581\u001b[39m \u001b[33;03mKeys are transformer names and values are the fitted transformer\u001b[39;00m\n\u001b[32m    582\u001b[39m \u001b[33;03mobjects.\u001b[39;00m\n\u001b[32m    583\u001b[39m \u001b[33;03m\"\"\"\u001b[39;00m\n\u001b[32m    584\u001b[39m \u001b[38;5;66;03m# Use Bunch object to improve autocomplete\u001b[39;00m\n\u001b[32m--> \u001b[39m\u001b[32m585\u001b[39m \u001b[38;5;28;01mreturn\u001b[39;00m Bunch(**{name: trans \u001b[38;5;28;01mfor\u001b[39;00m name, trans, _ \u001b[38;5;129;01min\u001b[39;00m \u001b[38;5;28;43mself\u001b[39;49m\u001b[43m.\u001b[49m\u001b[43mtransformers_\u001b[49m})\n",
      "\u001b[31mAttributeError\u001b[39m: 'ColumnTransformer' object has no attribute 'transformers_'"
     ]
    }
   ],
   "source": [
    "model.score(xtest,ytest)"
   ]
  }
 ],
 "metadata": {
  "kernelspec": {
   "display_name": "Python 3",
   "language": "python",
   "name": "python3"
  },
  "language_info": {
   "codemirror_mode": {
    "name": "ipython",
    "version": 3
   },
   "file_extension": ".py",
   "mimetype": "text/x-python",
   "name": "python",
   "nbconvert_exporter": "python",
   "pygments_lexer": "ipython3",
   "version": "3.13.1"
  }
 },
 "nbformat": 4,
 "nbformat_minor": 5
}
